{
 "cells": [
  {
   "cell_type": "markdown",
   "id": "7196054f",
   "metadata": {},
   "source": [
    "# Working with APIs"
   ]
  },
  {
   "cell_type": "markdown",
   "id": "0547b71e",
   "metadata": {},
   "source": [
    "API stands for Application programming interface<br>\n",
    "APIs are a way for applications to talk to eachother<br>\n",
    "In python we use the requests package to handle the connection<br>\n",
    "<small><strong>Note: It is requests with an s not request(this is a different package)</strong></small><br>\n",
    "Most API's communicate with data in the form of JSON<br>\n",
    "JSON stands for JavaScript Object Notation"
   ]
  },
  {
   "cell_type": "code",
   "execution_count": 1,
   "metadata": {},
   "outputs": [],
   "source": [
    "import requests\n"
   ]
  },
  {
   "attachments": {},
   "cell_type": "markdown",
   "id": "cc80a1f0",
   "metadata": {},
   "source": [
    "### importing requests module"
   ]
  },
  {
   "cell_type": "code",
   "execution_count": 2,
   "id": "4db9d154",
   "metadata": {},
   "outputs": [],
   "source": [
    "url = 'https://ergast.com/api/f1/2008/5/driverStandings.json'"
   ]
  },
  {
   "cell_type": "markdown",
   "id": "e8c2ce51",
   "metadata": {},
   "source": [
    "We will be connecting to the Ergast F1 Racer API today:\n",
    "http://ergast.com/mrd/\n",
    "\n",
    "to view JSON data nicely in the Chrome browser install the extension JSONview"
   ]
  },
  {
   "cell_type": "code",
   "execution_count": 11,
   "id": "52c440c6",
   "metadata": {},
   "outputs": [],
   "source": [
    "# Make sure to attach extension .json at the end of url\n",
    "response = requests.get(url)\n"
   ]
  },
  {
   "attachments": {},
   "cell_type": "markdown",
   "id": "1f8dc8b3",
   "metadata": {},
   "source": [
    "### using the request package to access data from api/url"
   ]
  },
  {
   "cell_type": "code",
   "execution_count": 14,
   "id": "f60c1b4a",
   "metadata": {},
   "outputs": [],
   "source": [
    "data = response.json()"
   ]
  },
  {
   "attachments": {},
   "cell_type": "markdown",
   "id": "52f840a9",
   "metadata": {},
   "source": [
    "### checking and making sure we got a successful response from our API\n",
    "#### status codes: 200 = ok/successful, 400 = bad/unsuccessful"
   ]
  },
  {
   "cell_type": "code",
   "execution_count": null,
   "id": "7b63a204",
   "metadata": {},
   "outputs": [],
   "source": []
  },
  {
   "attachments": {},
   "cell_type": "markdown",
   "id": "bc3fa89d",
   "metadata": {},
   "source": [
    "### view the response as a JSON with .json()"
   ]
  },
  {
   "cell_type": "code",
   "execution_count": 13,
   "id": "ed4d3256",
   "metadata": {},
   "outputs": [],
   "source": []
  },
  {
   "attachments": {},
   "cell_type": "markdown",
   "id": "3b49045f",
   "metadata": {},
   "source": [
    "### Get the Driver Standings Data from JSON"
   ]
  },
  {
   "cell_type": "code",
   "execution_count": 26,
   "id": "f074dfcf",
   "metadata": {},
   "outputs": [],
   "source": [
    "driverStandings = data['MRData']['StandingsTable']['StandingsLists'][0]['DriverStandings']"
   ]
  },
  {
   "attachments": {},
   "cell_type": "markdown",
   "id": "459823db",
   "metadata": {},
   "source": [
    "### Use a for loop to display all driver full names"
   ]
  },
  {
   "cell_type": "code",
   "execution_count": 29,
   "id": "be46a950",
   "metadata": {},
   "outputs": [
    {
     "name": "stdout",
     "output_type": "stream",
     "text": [
      "Räikkönen, Kimi\n",
      "Massa, Felipe\n",
      "Hamilton, Lewis\n",
      "Kubica, Robert\n",
      "Heidfeld, Nick\n",
      "Kovalainen, Heikki\n",
      "Webber, Mark\n",
      "Alonso, Fernando\n",
      "Trulli, Jarno\n",
      "Rosberg, Nico\n",
      "Nakajima, Kazuki\n",
      "Button, Jenson\n",
      "Bourdais, Sébastien\n",
      "Coulthard, David\n",
      "Glock, Timo\n",
      "Fisichella, Giancarlo\n",
      "Barrichello, Rubens\n",
      "Piquet Jr., Nelson\n",
      "Sato, Takuma\n",
      "Davidson, Anthony\n",
      "Sutil, Adrian\n",
      "Vettel, Sebastian\n"
     ]
    }
   ],
   "source": [
    "for driver in driverStandings:\n",
    "    print(driver['Driver']['familyName'], end=', ')\n",
    "    print(driver['Driver']['givenName'])"
   ]
  },
  {
   "attachments": {},
   "cell_type": "markdown",
   "id": "43c20f0d",
   "metadata": {},
   "source": [
    "### Create a function getting certain driver info (givenName, familyName, dateOfBirth, wins, team)"
   ]
  },
  {
   "cell_type": "code",
   "execution_count": 33,
   "id": "3740c752",
   "metadata": {},
   "outputs": [
    {
     "name": "stdout",
     "output_type": "stream",
     "text": [
      "{'firstName': 'Sebastian', 'lastName': 'Vettel', 'DOB': '1987-07-03', 'wins': '0', 'team': 'Toro Rosso'}\n"
     ]
    }
   ],
   "source": [
    "def getDriver(data):\n",
    "    newData = []\n",
    "    for driver in data:\n",
    "        driverDict = {\n",
    "            'firstName': driver['Driver']['givenName'],\n",
    "            'lastName': driver['Driver']['familyName'],\n",
    "            'DOB': driver['Driver']['dateOfBirth'],\n",
    "            'wins': driver['wins'],\n",
    "            'team': driver['Constructors'][0]['name']\n",
    "        }\n",
    "        newData.append(driverDict)\n",
    "    return driverDict\n",
    "print(getDriver(driverStandings))"
   ]
  },
  {
   "attachments": {},
   "cell_type": "markdown",
   "id": "1a713b13",
   "metadata": {},
   "source": [
    "### Making a more flexible function to handle different years and rounds"
   ]
  },
  {
   "cell_type": "code",
   "execution_count": 44,
   "id": "e9866280",
   "metadata": {},
   "outputs": [
    {
     "name": "stdout",
     "output_type": "stream",
     "text": [
      "Invalid Round or Year\n",
      "<class 'IndexError'>\n"
     ]
    }
   ],
   "source": [
    "def getDriverDataYearRound(year, round):\n",
    "    try:\n",
    "        url = f'https://ergast.com/api/f1/{year}/{round}/driverStandings.json'\n",
    "        response = requests.get(url)\n",
    "        newData = response.json()['MRData']['StandingsTable']['StandingsLists'][0]['DriverStandings']\n",
    "        driverData = getDriver(newData)\n",
    "        return driverData\n",
    "    except:\n",
    "        print('Invalid Round or Year')\n",
    "\n",
    "getDriverDataYearRound(20123,1)\n"
   ]
  },
  {
   "cell_type": "markdown",
   "id": "6d546014",
   "metadata": {},
   "source": [
    "# <strong>Homework</strong>\n",
    "check out this Pokemon API https://pokeapi.co/\n",
    "Use the requests package to connect to this API and get and store data for 5 different pokemon.\n",
    "Get the pokemons: name, atleast one ability's name, base_experience, and the URL for its sprite (an image that shows up on screen) for the 'front_shiny', attack base_stat, hp base_stat, defense base_stat"
   ]
  },
  {
   "cell_type": "code",
   "execution_count": 242,
   "id": "6561154f",
   "metadata": {},
   "outputs": [
    {
     "name": "stdout",
     "output_type": "stream",
     "text": [
      "tentacool\n",
      "{'name': 'clear-body', 'url': 'https://pokeapi.co/api/v2/ability/29/'}\n",
      "{'name': 'liquid-ooze', 'url': 'https://pokeapi.co/api/v2/ability/64/'}\n",
      "{'name': 'rain-dish', 'url': 'https://pokeapi.co/api/v2/ability/44/'}\n",
      "[{'ability': {'name': 'clear-body', 'url': 'https://pokeapi.co/api/v2/ability/29/'}, 'is_hidden': False, 'slot': 1}, {'ability': {'name': 'liquid-ooze', 'url': 'https://pokeapi.co/api/v2/ability/64/'}, 'is_hidden': False, 'slot': 2}, {'ability': {'name': 'rain-dish', 'url': 'https://pokeapi.co/api/v2/ability/44/'}, 'is_hidden': True, 'slot': 3}]\n",
      "caterpie\n",
      "{'name': 'shield-dust', 'url': 'https://pokeapi.co/api/v2/ability/19/'}\n",
      "{'name': 'run-away', 'url': 'https://pokeapi.co/api/v2/ability/50/'}\n",
      "[{'ability': {'name': 'shield-dust', 'url': 'https://pokeapi.co/api/v2/ability/19/'}, 'is_hidden': False, 'slot': 1}, {'ability': {'name': 'run-away', 'url': 'https://pokeapi.co/api/v2/ability/50/'}, 'is_hidden': True, 'slot': 3}]\n",
      "venonat\n",
      "{'name': 'compound-eyes', 'url': 'https://pokeapi.co/api/v2/ability/14/'}\n",
      "{'name': 'tinted-lens', 'url': 'https://pokeapi.co/api/v2/ability/110/'}\n",
      "{'name': 'run-away', 'url': 'https://pokeapi.co/api/v2/ability/50/'}\n",
      "[{'ability': {'name': 'compound-eyes', 'url': 'https://pokeapi.co/api/v2/ability/14/'}, 'is_hidden': False, 'slot': 1}, {'ability': {'name': 'tinted-lens', 'url': 'https://pokeapi.co/api/v2/ability/110/'}, 'is_hidden': False, 'slot': 2}, {'ability': {'name': 'run-away', 'url': 'https://pokeapi.co/api/v2/ability/50/'}, 'is_hidden': True, 'slot': 3}]\n",
      "abra\n",
      "{'name': 'synchronize', 'url': 'https://pokeapi.co/api/v2/ability/28/'}\n",
      "{'name': 'inner-focus', 'url': 'https://pokeapi.co/api/v2/ability/39/'}\n",
      "{'name': 'magic-guard', 'url': 'https://pokeapi.co/api/v2/ability/98/'}\n",
      "[{'ability': {'name': 'synchronize', 'url': 'https://pokeapi.co/api/v2/ability/28/'}, 'is_hidden': False, 'slot': 1}, {'ability': {'name': 'inner-focus', 'url': 'https://pokeapi.co/api/v2/ability/39/'}, 'is_hidden': False, 'slot': 2}, {'ability': {'name': 'magic-guard', 'url': 'https://pokeapi.co/api/v2/ability/98/'}, 'is_hidden': True, 'slot': 3}]\n",
      "raticate\n",
      "{'name': 'run-away', 'url': 'https://pokeapi.co/api/v2/ability/50/'}\n",
      "{'name': 'guts', 'url': 'https://pokeapi.co/api/v2/ability/62/'}\n",
      "{'name': 'hustle', 'url': 'https://pokeapi.co/api/v2/ability/55/'}\n",
      "[{'ability': {'name': 'run-away', 'url': 'https://pokeapi.co/api/v2/ability/50/'}, 'is_hidden': False, 'slot': 1}, {'ability': {'name': 'guts', 'url': 'https://pokeapi.co/api/v2/ability/62/'}, 'is_hidden': False, 'slot': 2}, {'ability': {'name': 'hustle', 'url': 'https://pokeapi.co/api/v2/ability/55/'}, 'is_hidden': True, 'slot': 3}]\n",
      "{1: {'name': 'tentacool'}, 2: {'name': 'caterpie'}, 3: {'name': 'venonat'}, 4: {'name': 'abra'}, 5: {'name': 'raticate'}}\n"
     ]
    }
   ],
   "source": [
    "import requests\n",
    "import random\n",
    "import math\n",
    "\n",
    "r = requests.get('https://pokeapi.co/api/v2/pokemon/?limit=100')\n",
    "data = r.json()['results']\n",
    "\n",
    "pokemons = [0, 0, 0, 0, 0]\n",
    "def findRandPokemon(plist):\n",
    "    pdict = {1: 0,\n",
    "             2: 0,\n",
    "             3: 0,\n",
    "             4: 0,\n",
    "             5: 0}\n",
    "    ind = 0\n",
    "    for p in plist:\n",
    "        flag = True\n",
    "        ind += 1\n",
    "        while flag:\n",
    "            p = (math.floor(random.random() * 10)+1)*(math.floor(random.random() * 10)+1)\n",
    "            if p not in pdict:\n",
    "                pdict[ind] = p\n",
    "                flag = False\n",
    "    return pdict\n",
    "myPokemons = findRandPokemon(pokemons)\n",
    "\n",
    "allPokemons = {}\n",
    "counter = 1\n",
    "for pok in data:\n",
    "    allPokemons[counter] = pok\n",
    "    counter += 1\n",
    "    \n",
    "for ind,pok in myPokemons.items():\n",
    "    print(allPokemons[pok]['name'])\n",
    "    url = f\"{allPokemons[pok]['url']}\"\n",
    "    r = requests.get(url)\n",
    "    data = r.json()['abilities']\n",
    "    myPokemons[ind]={'name': allPokemons[pok]['name']}\n",
    "    for ab in data:\n",
    "        print(ab['ability'])\n",
    "    print(data)\n",
    "print(myPokemons)\n",
    "    "
   ]
  }
 ],
 "metadata": {
  "kernelspec": {
   "display_name": "Python 3.10.8 64-bit (microsoft store)",
   "language": "python",
   "name": "python3"
  },
  "language_info": {
   "codemirror_mode": {
    "name": "ipython",
    "version": 3
   },
   "file_extension": ".py",
   "mimetype": "text/x-python",
   "name": "python",
   "nbconvert_exporter": "python",
   "pygments_lexer": "ipython3",
   "version": "3.11.3"
  },
  "vscode": {
   "interpreter": {
    "hash": "aa82987a71ca0339a52998cd22613b0c002bda8349fa32a0cb67ceec3936a2bf"
   }
  }
 },
 "nbformat": 4,
 "nbformat_minor": 5
}
