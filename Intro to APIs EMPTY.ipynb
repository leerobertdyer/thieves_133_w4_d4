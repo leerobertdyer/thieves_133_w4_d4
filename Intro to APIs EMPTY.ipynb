{
 "cells": [
  {
   "cell_type": "markdown",
   "id": "7196054f",
   "metadata": {},
   "source": [
    "# Working with APIs"
   ]
  },
  {
   "cell_type": "markdown",
   "id": "0547b71e",
   "metadata": {},
   "source": [
    "API stands for Application programming interface<br>\n",
    "APIs are a way for applications to talk to eachother<br>\n",
    "In python we use the requests package to handle the connection<br>\n",
    "<small><strong>Note: It is requests with an s not request(this is a different package)</strong></small><br>\n",
    "Most API's communicate with data in the form of JSON<br>\n",
    "JSON stands for JavaScript Object Notation"
   ]
  },
  {
   "cell_type": "code",
   "execution_count": 1,
   "metadata": {},
   "outputs": [],
   "source": [
    "import requests\n"
   ]
  },
  {
   "attachments": {},
   "cell_type": "markdown",
   "id": "cc80a1f0",
   "metadata": {},
   "source": [
    "### importing requests module"
   ]
  },
  {
   "cell_type": "code",
   "execution_count": 2,
   "id": "4db9d154",
   "metadata": {},
   "outputs": [],
   "source": [
    "url = 'https://ergast.com/api/f1/2008/5/driverStandings.json'"
   ]
  },
  {
   "cell_type": "markdown",
   "id": "e8c2ce51",
   "metadata": {},
   "source": [
    "We will be connecting to the Ergast F1 Racer API today:\n",
    "http://ergast.com/mrd/\n",
    "\n",
    "to view JSON data nicely in the Chrome browser install the extension JSONview"
   ]
  },
  {
   "cell_type": "code",
   "execution_count": 11,
   "id": "52c440c6",
   "metadata": {},
   "outputs": [],
   "source": [
    "# Make sure to attach extension .json at the end of url\n",
    "response = requests.get(url)\n"
   ]
  },
  {
   "attachments": {},
   "cell_type": "markdown",
   "id": "1f8dc8b3",
   "metadata": {},
   "source": [
    "### using the request package to access data from api/url"
   ]
  },
  {
   "cell_type": "code",
   "execution_count": 14,
   "id": "f60c1b4a",
   "metadata": {},
   "outputs": [],
   "source": [
    "data = response.json()"
   ]
  },
  {
   "attachments": {},
   "cell_type": "markdown",
   "id": "52f840a9",
   "metadata": {},
   "source": [
    "### checking and making sure we got a successful response from our API\n",
    "#### status codes: 200 = ok/successful, 400 = bad/unsuccessful"
   ]
  },
  {
   "cell_type": "code",
   "execution_count": null,
   "id": "7b63a204",
   "metadata": {},
   "outputs": [],
   "source": []
  },
  {
   "attachments": {},
   "cell_type": "markdown",
   "id": "bc3fa89d",
   "metadata": {},
   "source": [
    "### view the response as a JSON with .json()"
   ]
  },
  {
   "cell_type": "code",
   "execution_count": 13,
   "id": "ed4d3256",
   "metadata": {},
   "outputs": [],
   "source": []
  },
  {
   "attachments": {},
   "cell_type": "markdown",
   "id": "3b49045f",
   "metadata": {},
   "source": [
    "### Get the Driver Standings Data from JSON"
   ]
  },
  {
   "cell_type": "code",
   "execution_count": 26,
   "id": "f074dfcf",
   "metadata": {},
   "outputs": [],
   "source": [
    "driverStandings = data['MRData']['StandingsTable']['StandingsLists'][0]['DriverStandings']"
   ]
  },
  {
   "attachments": {},
   "cell_type": "markdown",
   "id": "459823db",
   "metadata": {},
   "source": [
    "### Use a for loop to display all driver full names"
   ]
  },
  {
   "cell_type": "code",
   "execution_count": 29,
   "id": "be46a950",
   "metadata": {},
   "outputs": [
    {
     "name": "stdout",
     "output_type": "stream",
     "text": [
      "Räikkönen, Kimi\n",
      "Massa, Felipe\n",
      "Hamilton, Lewis\n",
      "Kubica, Robert\n",
      "Heidfeld, Nick\n",
      "Kovalainen, Heikki\n",
      "Webber, Mark\n",
      "Alonso, Fernando\n",
      "Trulli, Jarno\n",
      "Rosberg, Nico\n",
      "Nakajima, Kazuki\n",
      "Button, Jenson\n",
      "Bourdais, Sébastien\n",
      "Coulthard, David\n",
      "Glock, Timo\n",
      "Fisichella, Giancarlo\n",
      "Barrichello, Rubens\n",
      "Piquet Jr., Nelson\n",
      "Sato, Takuma\n",
      "Davidson, Anthony\n",
      "Sutil, Adrian\n",
      "Vettel, Sebastian\n"
     ]
    }
   ],
   "source": [
    "for driver in driverStandings:\n",
    "    print(driver['Driver']['familyName'], end=', ')\n",
    "    print(driver['Driver']['givenName'])"
   ]
  },
  {
   "attachments": {},
   "cell_type": "markdown",
   "id": "43c20f0d",
   "metadata": {},
   "source": [
    "### Create a function getting certain driver info (givenName, familyName, dateOfBirth, wins, team)"
   ]
  },
  {
   "cell_type": "code",
   "execution_count": 33,
   "id": "3740c752",
   "metadata": {},
   "outputs": [
    {
     "name": "stdout",
     "output_type": "stream",
     "text": [
      "{'firstName': 'Sebastian', 'lastName': 'Vettel', 'DOB': '1987-07-03', 'wins': '0', 'team': 'Toro Rosso'}\n"
     ]
    }
   ],
   "source": [
    "def getDriver(data):\n",
    "    newData = []\n",
    "    for driver in data:\n",
    "        driverDict = {\n",
    "            'firstName': driver['Driver']['givenName'],\n",
    "            'lastName': driver['Driver']['familyName'],\n",
    "            'DOB': driver['Driver']['dateOfBirth'],\n",
    "            'wins': driver['wins'],\n",
    "            'team': driver['Constructors'][0]['name']\n",
    "        }\n",
    "        newData.append(driverDict)\n",
    "    return driverDict\n",
    "print(getDriver(driverStandings))"
   ]
  },
  {
   "attachments": {},
   "cell_type": "markdown",
   "id": "1a713b13",
   "metadata": {},
   "source": [
    "### Making a more flexible function to handle different years and rounds"
   ]
  },
  {
   "cell_type": "code",
   "execution_count": 44,
   "id": "e9866280",
   "metadata": {},
   "outputs": [
    {
     "name": "stdout",
     "output_type": "stream",
     "text": [
      "Invalid Round or Year\n",
      "<class 'IndexError'>\n"
     ]
    }
   ],
   "source": [
    "def getDriverDataYearRound(year, round):\n",
    "    try:\n",
    "        url = f'https://ergast.com/api/f1/{year}/{round}/driverStandings.json'\n",
    "        response = requests.get(url)\n",
    "        newData = response.json()['MRData']['StandingsTable']['StandingsLists'][0]['DriverStandings']\n",
    "        driverData = getDriver(newData)\n",
    "        return driverData\n",
    "    except:\n",
    "        print('Invalid Round or Year')\n",
    "\n",
    "getDriverDataYearRound(20123,1)\n"
   ]
  },
  {
   "cell_type": "markdown",
   "id": "6d546014",
   "metadata": {},
   "source": [
    "# <strong>Homework</strong>\n",
    "check out this Pokemon API https://pokeapi.co/\n",
    "Use the requests package to connect to this API and get and store data for 5 different pokemon.\n",
    "Get the pokemons: name, atleast one ability's name, base_experience, and the URL for its sprite (an image that shows up on screen) for the 'front_shiny', attack base_stat, hp base_stat, defense base_stat"
   ]
  },
  {
   "cell_type": "code",
   "execution_count": 12,
   "id": "6561154f",
   "metadata": {},
   "outputs": [
    {
     "name": "stdout",
     "output_type": "stream",
     "text": [
      "{'name': 'golbat', 'Base XP': 159, 'Sprite': 'https://raw.githubusercontent.com/PokeAPI/sprites/master/sprites/pokemon/other/official-artwork/42.png', 'HP': 75, 'Attack': 80, 'Defense': 70, 'Ability 1': 'inner-focus', 'Ability 2': 'infiltrator'}\n",
      "{'name': 'kakuna', 'Base XP': 72, 'Sprite': 'https://raw.githubusercontent.com/PokeAPI/sprites/master/sprites/pokemon/other/official-artwork/14.png', 'HP': 45, 'Attack': 25, 'Defense': 50, 'Ability 1': 'shed-skin'}\n",
      "{'name': 'arbok', 'Base XP': 157, 'Sprite': 'https://raw.githubusercontent.com/PokeAPI/sprites/master/sprites/pokemon/other/official-artwork/24.png', 'HP': 60, 'Attack': 95, 'Defense': 69, 'Ability 1': 'intimidate', 'Ability 2': 'shed-skin', 'Ability 3': 'unnerve'}\n",
      "{'name': 'poliwag', 'Base XP': 60, 'Sprite': 'https://raw.githubusercontent.com/PokeAPI/sprites/master/sprites/pokemon/other/official-artwork/60.png', 'HP': 40, 'Attack': 50, 'Defense': 40, 'Ability 1': 'water-absorb', 'Ability 2': 'damp', 'Ability 3': 'swift-swim'}\n",
      "{'name': 'charmeleon', 'Base XP': 142, 'Sprite': 'https://raw.githubusercontent.com/PokeAPI/sprites/master/sprites/pokemon/other/official-artwork/5.png', 'HP': 58, 'Attack': 64, 'Defense': 58, 'Ability 1': 'blaze', 'Ability 2': 'solar-power'}\n"
     ]
    }
   ],
   "source": [
    "import requests\n",
    "import random\n",
    "import math\n",
    "\n",
    "            #setting up initial api request with a 100 limit:   \n",
    "r = requests.get('https://pokeapi.co/api/v2/pokemon/?limit=100')\n",
    "data = r.json()['results']\n",
    "\n",
    "            # setting up a random library of 5 numbers 1 to 100.\n",
    "            # I used a while loop and a flag to make sure I don't get duplicates\n",
    "            # Designed so you could can change the amount of pokemons by changing the parameter\n",
    "def findRandPokemon(amountOfPokemons):\n",
    "    pdict = {}\n",
    "    ind = 0\n",
    "    for i in range(amountOfPokemons):\n",
    "        flag = True\n",
    "        ind += 1\n",
    "        while flag:\n",
    "            pokInd = (math.floor(random.random() * 10)+1)*(math.floor(random.random() * 10)+1)\n",
    "            if pokInd not in pdict:\n",
    "                pdict[ind] = pokInd\n",
    "                flag = False\n",
    "    return pdict\n",
    "\n",
    "            # my initial pokemons will just be the number plus their random index 1-100:\n",
    "myPokemons = findRandPokemon(5)\n",
    "\n",
    "            # now I set up a library with the 100 pokemons:\n",
    "allPokemons = {}\n",
    "counter = 1\n",
    "for pok in data:\n",
    "    allPokemons[counter] = pok\n",
    "    counter += 1\n",
    "    \n",
    "            # and then I set each pokemons values into my pokemon dictionary:\n",
    "for ind,pok in myPokemons.items():\n",
    "    myPokemons[ind]={'name': allPokemons[pok]['name']}\n",
    "    url = f\"{allPokemons[pok]['url']}\"\n",
    "    r = requests.get(url)\n",
    "    myPokemons[ind]['Base XP'] = r.json()['base_experience']\n",
    "    myPokemons[ind]['Sprite'] = r.json()['sprites']['other']['official-artwork']['front_default']\n",
    "    myPokemons[ind]['HP'] = r.json()['stats'][0]['base_stat']\n",
    "    myPokemons[ind]['Attack'] = r.json()['stats'][1]['base_stat']\n",
    "    myPokemons[ind]['Defense'] = r.json()['stats'][2]['base_stat']\n",
    "    abilities = r.json()['abilities']\n",
    "    abCount = 1\n",
    "    for ab in abilities:\n",
    "        myPokemons[ind][f'Ability {abCount}']=ab['ability']['name']\n",
    "        abCount += 1\n",
    "for key,pokemon in myPokemons.items():\n",
    "    print(pokemon)\n",
    "    \n",
    "    \n",
    "    "
   ]
  }
 ],
 "metadata": {
  "kernelspec": {
   "display_name": "Python 3.10.8 64-bit (microsoft store)",
   "language": "python",
   "name": "python3"
  },
  "language_info": {
   "codemirror_mode": {
    "name": "ipython",
    "version": 3
   },
   "file_extension": ".py",
   "mimetype": "text/x-python",
   "name": "python",
   "nbconvert_exporter": "python",
   "pygments_lexer": "ipython3",
   "version": "3.11.3"
  },
  "vscode": {
   "interpreter": {
    "hash": "aa82987a71ca0339a52998cd22613b0c002bda8349fa32a0cb67ceec3936a2bf"
   }
  }
 },
 "nbformat": 4,
 "nbformat_minor": 5
}
